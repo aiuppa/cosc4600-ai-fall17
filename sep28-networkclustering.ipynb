{
 "cells": [
  {
   "cell_type": "code",
   "execution_count": 6,
   "metadata": {
    "collapsed": true
   },
   "outputs": [],
   "source": [
    "import numpy as np\n",
    "import networkx as nx\n",
    "import matplotlib.pylab as plt\n",
    "from __future__ import division\n",
    "%matplotlib inline"
   ]
  },
  {
   "cell_type": "code",
   "execution_count": 24,
   "metadata": {
    "collapsed": true
   },
   "outputs": [],
   "source": [
    "#create an ER random graph with 10 nodes and probability of connection = 0.5\n",
    "g = nx.erdos_renyi_graph(10, 0.5)"
   ]
  },
  {
   "cell_type": "code",
   "execution_count": 25,
   "metadata": {
    "collapsed": true
   },
   "outputs": [],
   "source": [
    "#add a node\n",
    "g.add_node(12) \n",
    "\n",
    "#add a new node \"A\" and connect it to node 12\n",
    "g.add_edge(12,\"A\") "
   ]
  },
  {
   "cell_type": "code",
   "execution_count": 26,
   "metadata": {
    "collapsed": false
   },
   "outputs": [
    {
     "data": {
      "text/plain": [
       "<generator object connected_components at 0x114d84db0>"
      ]
     },
     "execution_count": 26,
     "metadata": {},
     "output_type": "execute_result"
    }
   ],
   "source": [
    "#connected components\n",
    "nx.connected_components(g)"
   ]
  },
  {
   "cell_type": "code",
   "execution_count": 27,
   "metadata": {
    "collapsed": false
   },
   "outputs": [
    {
     "data": {
      "text/plain": [
       "{0: 5, 1: 6, 2: 4, 3: 4, 4: 5, 5: 5, 6: 4, 7: 3, 8: 4, 9: 6, 12: 1, 'A': 1}"
      ]
     },
     "execution_count": 27,
     "metadata": {},
     "output_type": "execute_result"
    }
   ],
   "source": [
    "#dictionary of nodes and degrees\n",
    "g.degree() "
   ]
  },
  {
   "cell_type": "code",
   "execution_count": 28,
   "metadata": {
    "collapsed": false
   },
   "outputs": [
    {
     "data": {
      "text/plain": [
       "{0: 0.5,\n",
       " 1: 0.4666666666666667,\n",
       " 2: 0.5,\n",
       " 3: 0.5,\n",
       " 4: 0.5,\n",
       " 5: 0.4,\n",
       " 6: 0.5,\n",
       " 7: 0.3333333333333333,\n",
       " 8: 0.3333333333333333,\n",
       " 9: 0.4,\n",
       " 12: 0.0,\n",
       " 'A': 0.0}"
      ]
     },
     "execution_count": 28,
     "metadata": {},
     "output_type": "execute_result"
    }
   ],
   "source": [
    "#clustering coefficient\n",
    "nx.clustering(g)"
   ]
  },
  {
   "cell_type": "code",
   "execution_count": 29,
   "metadata": {
    "collapsed": false
   },
   "outputs": [
    {
     "data": {
      "text/plain": [
       "{0: 0.03636363636363636,\n",
       " 1: 0.057575757575757565,\n",
       " 2: 0.02121212121212121,\n",
       " 3: 0.021212121212121213,\n",
       " 4: 0.04545454545454544,\n",
       " 5: 0.05757575757575757,\n",
       " 6: 0.02424242424242424,\n",
       " 7: 0.01212121212121212,\n",
       " 8: 0.036363636363636355,\n",
       " 9: 0.08787878787878788,\n",
       " 12: 0.0,\n",
       " 'A': 0.0}"
      ]
     },
     "execution_count": 29,
     "metadata": {},
     "output_type": "execute_result"
    }
   ],
   "source": [
    "#example betweenness centrality\n",
    "nx.betweenness_centrality(g)"
   ]
  },
  {
   "cell_type": "code",
   "execution_count": 30,
   "metadata": {
    "collapsed": false
   },
   "outputs": [],
   "source": [
    "#random walks\n",
    "#g = nx.DiGraph()\n",
    "    \n",
    "#g.add_edges_from([(1,3),(2,1),(2,4),(3,2),(3,4),(4,3),(5,1),(5,3)])\n",
    "\n",
    "#visualize the graph\n",
    "#nx.draw(g)"
   ]
  },
  {
   "cell_type": "code",
   "execution_count": 31,
   "metadata": {
    "collapsed": false
   },
   "outputs": [
    {
     "name": "stdout",
     "output_type": "stream",
     "text": [
      "  (0, 1)\t1\n",
      "  (0, 3)\t1\n",
      "  (0, 4)\t1\n",
      "  (0, 8)\t1\n",
      "  (0, 9)\t1\n",
      "  (1, 0)\t1\n",
      "  (1, 4)\t1\n",
      "  (1, 5)\t1\n",
      "  (1, 6)\t1\n",
      "  (1, 8)\t1\n",
      "  (1, 9)\t1\n",
      "  (2, 3)\t1\n",
      "  (2, 5)\t1\n",
      "  (2, 6)\t1\n",
      "  (2, 9)\t1\n",
      "  (3, 0)\t1\n",
      "  (3, 2)\t1\n",
      "  (3, 5)\t1\n",
      "  (3, 9)\t1\n",
      "  (4, 0)\t1\n",
      "  (4, 1)\t1\n",
      "  (4, 6)\t1\n",
      "  (4, 7)\t1\n",
      "  (4, 9)\t1\n",
      "  (5, 1)\t1\n",
      "  (5, 2)\t1\n",
      "  (5, 3)\t1\n",
      "  (5, 6)\t1\n",
      "  (5, 8)\t1\n",
      "  (6, 1)\t1\n",
      "  (6, 2)\t1\n",
      "  (6, 4)\t1\n",
      "  (6, 5)\t1\n",
      "  (7, 4)\t1\n",
      "  (7, 8)\t1\n",
      "  (7, 9)\t1\n",
      "  (8, 0)\t1\n",
      "  (8, 1)\t1\n",
      "  (8, 5)\t1\n",
      "  (8, 7)\t1\n",
      "  (9, 0)\t1\n",
      "  (9, 1)\t1\n",
      "  (9, 2)\t1\n",
      "  (9, 3)\t1\n",
      "  (9, 4)\t1\n",
      "  (9, 7)\t1\n",
      "  (10, 11)\t1\n",
      "  (11, 10)\t1\n"
     ]
    }
   ],
   "source": [
    "#getting adjacency matrix\n",
    "M = nx.adjacency_matrix(g)\n",
    "print(M)"
   ]
  },
  {
   "cell_type": "code",
   "execution_count": 32,
   "metadata": {
    "collapsed": true
   },
   "outputs": [],
   "source": [
    "#iterating\n",
    "#for i in range(5):\n",
    " #   if (np.sum(M[i]) > 0):\n",
    "       #M[i] = M[i]/np.sum(M[i])"
   ]
  },
  {
   "cell_type": "code",
   "execution_count": 33,
   "metadata": {
    "collapsed": false
   },
   "outputs": [],
   "source": [
    "#print(M)"
   ]
  },
  {
   "cell_type": "code",
   "execution_count": 36,
   "metadata": {
    "collapsed": false
   },
   "outputs": [
    {
     "name": "stdout",
     "output_type": "stream",
     "text": [
      "{0: 5, 1: 7, 2: 3, 3: 3, 4: 5, 5: 4, 6: 3, 7: 1, 8: 2, 9: 6, 12: 0, 'A': 0}\n"
     ]
    }
   ],
   "source": [
    "#computing triangles\n",
    "N = nx.triangles(g)\n",
    "print(N)"
   ]
  },
  {
   "cell_type": "code",
   "execution_count": 38,
   "metadata": {
    "collapsed": false
   },
   "outputs": [
    {
     "name": "stdout",
     "output_type": "stream",
     "text": [
      "0.4482758620689655\n"
     ]
    }
   ],
   "source": [
    "#transitivity\n",
    "O = nx.transitivity(g)\n",
    "print(O)"
   ]
  },
  {
   "cell_type": "code",
   "execution_count": 39,
   "metadata": {
    "collapsed": false
   },
   "outputs": [
    {
     "name": "stdout",
     "output_type": "stream",
     "text": [
      "{0: 0.5, 1: 0.4666666666666667, 2: 0.5, 3: 0.5, 4: 0.5, 5: 0.4, 6: 0.5, 7: 0.3333333333333333, 8: 0.3333333333333333, 9: 0.4, 12: 0.0, 'A': 0.0}\n"
     ]
    }
   ],
   "source": [
    "#node clustering co-efficient\n",
    "P = nx.clustering(g)\n",
    "print(P)"
   ]
  },
  {
   "cell_type": "code",
   "execution_count": 41,
   "metadata": {
    "collapsed": false
   },
   "outputs": [
    {
     "name": "stdout",
     "output_type": "stream",
     "text": [
      "0.36944444444444446\n"
     ]
    }
   ],
   "source": [
    "#average clustering co-efficient of nodes\n",
    "Q = nx.average_clustering(g)\n",
    "print(Q)"
   ]
  },
  {
   "cell_type": "code",
   "execution_count": 42,
   "metadata": {
    "collapsed": false
   },
   "outputs": [
    {
     "name": "stdout",
     "output_type": "stream",
     "text": [
      "{0: 0.28846153846153844, 1: 0.2261904761904762, 2: 0.22580645161290322, 3: 0.2222222222222222, 4: 0.2708333333333333, 5: 0.20833333333333334, 6: 0.2222222222222222, 7: 0.46153846153846156, 8: 0.3103448275862069, 9: 0.23943661971830985, 12: 0.0, 'A': 0.0}\n"
     ]
    }
   ],
   "source": [
    "#squares clustering co-efficient of nodes\n",
    "R = nx.square_clustering(g)\n",
    "print(R)"
   ]
  },
  {
   "cell_type": "code",
   "execution_count": 44,
   "metadata": {
    "collapsed": false
   },
   "outputs": [
    {
     "name": "stdout",
     "output_type": "stream",
     "text": [
      "{4: [{0, 1, 2, 3, 4, 5, 6, 9}], 3: [{0, 1, 2, 3, 4, 5, 6, 7, 8, 9}], 2: [{0, 1, 2, 3, 4, 5, 6, 7, 8, 9}], 1: [{0, 1, 2, 3, 4, 5, 6, 7, 8, 9}, {'A', 12}]}\n"
     ]
    }
   ],
   "source": [
    "#k-components\n",
    "S = nx.k_components(g)\n",
    "print(S)"
   ]
  },
  {
   "cell_type": "code",
   "execution_count": null,
   "metadata": {
    "collapsed": true
   },
   "outputs": [],
   "source": []
  }
 ],
 "metadata": {
  "kernelspec": {
   "display_name": "Python 3",
   "language": "python",
   "name": "python3"
  },
  "language_info": {
   "codemirror_mode": {
    "name": "ipython",
    "version": 3
   },
   "file_extension": ".py",
   "mimetype": "text/x-python",
   "name": "python",
   "nbconvert_exporter": "python",
   "pygments_lexer": "ipython3",
   "version": "3.6.0"
  }
 },
 "nbformat": 4,
 "nbformat_minor": 2
}
